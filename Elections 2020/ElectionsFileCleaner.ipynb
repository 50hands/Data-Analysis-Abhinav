{
  "nbformat": 4,
  "nbformat_minor": 0,
  "metadata": {
    "colab": {
      "name": "ElectionsFileCleaner.ipynb",
      "provenance": [],
      "collapsed_sections": []
    },
    "kernelspec": {
      "name": "python3",
      "display_name": "Python 3"
    },
    "accelerator": "TPU"
  },
  "cells": [
    {
      "cell_type": "code",
      "metadata": {
        "id": "cRwFzhXwwNzH"
      },
      "source": [
        "import pandas as pd\n",
        "import numpy as np\n",
        "import csv\n",
        "import urllib\n",
        "df=pd.read_excel('drive/My Drive/Elections 2020/ElectionResults.xlsx',sheet_name='Sheet1')\n",
        "df=df.append(pd.DataFrame({'state':['alaska','washington dc'],'county':['alaska','washington dc'],'gopvotes':[179064,16306],'demvotes':[142569,285728],'gopvotesper':[53.6,5.3],'demvotesper':[42.6,93.2]}),ignore_index=True)\n",
        "df2=pd.read_csv('https://www2.census.gov/programs-surveys/popest/datasets/2010-2019/national/totals/nst-est2019-alldata.csv')\n",
        "df2=df2[['NAME','POPESTIMATE2019']]\n",
        "df2=df2.rename(columns={'NAME':'state','POPESTIMATE2019':'statepop'})\n",
        "df['county']=list(map(lambda x:x.lower(),df['county'].tolist()))\n",
        "df2['state']=list(map(lambda x:x.lower(),df2['state'].tolist()))\n",
        "df=pd.merge(df,df2,how='left',left_on=['state'],right_on=['state'])\n",
        "df['statepop']=df['statepop'].fillna(684498)\n",
        "df['statepop']=list(map(int,df['statepop'].tolist()))\n",
        "df2=pd.read_excel('drive/My Drive/Elections 2020/CountyPopulation.xlsx')\n",
        "df2=df2.rename(columns={'STNAME':'state','CTYNAME':'county','POPESTIMATE2019':'countypop'})\n",
        "df2['state']=list(map(lambda x:x.lower(),df2['state'].tolist()))\n",
        "df2['county']=list(map(lambda x:x.lower(),df2['county'].tolist()))\n",
        "df=pd.merge(df,df2,how='left',left_on=['state','county'],right_on=['state','county'])\n",
        "df=df.fillna(684498)\n",
        "df['countypop']=list(map(int,df['countypop'].tolist()))\n",
        "df2=pd.read_excel('drive/My Drive/Elections 2020/CountyDetails.xlsx')\n",
        "df2['state']=list(map(lambda x:x.lower(),df2['state'].tolist()))\n",
        "df2['county']=list(map(lambda x:x.lower(),df2['county'].tolist()))\n",
        "df=pd.merge(df,df2,how='left',left_on=['state','county'],right_on=['state','county'])\n",
        "l1=np.asarray(df['countypop'].tolist(),dtype=int)\n",
        "l2=np.asarray(df['poverty'].tolist(),dtype=int)\n",
        "l=np.divide(l2,l1)\n",
        "l=np.multiply(l,100)\n",
        "l=list(map(lambda x:round(x,2),l))\n",
        "df['povertyper']=l\n",
        "l=list(set(df['state'].tolist()))\n",
        "df_temp=pd.DataFrame(columns=['state','county','poverty','medianincome'])\n",
        "for i in l:\n",
        "    df_temp=df_temp.append(df2[(df2['state']==i) & (df2['county']==i)])\n",
        "df_temp=df_temp.reset_index(drop=True)[['state','poverty','medianincome']].rename(columns={'poverty':'statepoverty','medianincome':'statemedianincome'})\n",
        "df=pd.merge(df,df_temp,how='left',left_on='state',right_on='state')\n",
        "l1=np.asarray(df['statepop'].tolist(),dtype=int)\n",
        "l2=np.asarray(df['statepoverty'].tolist(),dtype=int)\n",
        "l=np.divide(l2,l1)\n",
        "l=np.multiply(l,100)\n",
        "l=list(map(lambda x:round(x,2),l))\n",
        "df['statepovertyper']=l\n",
        "df=df.rename(columns={'poverty':'countypoverty','povertyper':'countypovertyper','medianincome':'countymedianincome'})\n",
        "df['countytotalvotes']=np.add(np.asarray(df['demvotes'].tolist()),np.asarray(df['gopvotes'].tolist()))\n",
        "df_stvt=df.groupby(['state']).sum()['countytotalvotes']\n",
        "df_stvt=df_stvt.to_frame()\n",
        "df_stvt.reset_index(inplace=True)\n",
        "df_stvt=df_stvt.rename(columns={'countytotalvotes':'statetotalvotes'})\n",
        "df=pd.merge(df,df_stvt,how='left',left_on='state',right_on='state')"
      ],
      "execution_count": 276,
      "outputs": []
    },
    {
      "cell_type": "code",
      "metadata": {
        "id": "ru0Tf3xrZ9pX"
      },
      "source": [
        "df_fips=pd.read_csv('https://raw.githubusercontent.com/kjhealy/fips-codes/master/county_fips_master.csv',encoding='ISO-8859-1')\n",
        "df_fips=df_fips[['fips','county_name','state_name']]\n",
        "df_fips=df_fips.rename(columns={'county_name':'county','state_name':'state'})\n",
        "df_fips['fips']=list(map(lambda x:('0'*(5-len(str(x))))+str(x),df_fips['fips'].tolist()))\n",
        "df_fips['county']=list(map(lambda x:x.lower(),df_fips['county'].tolist()))\n",
        "df_fips['state']=list(map(lambda x:x.lower(),df_fips['state'].tolist()))\n",
        "df_fips=df_fips.replace(['doða ana county'],'doña ana county')\n",
        "df_fips=df_fips.replace(['la salle parish'],'lasalle parish')\n",
        "df_fips=df_fips.replace(['district of columbia'],'washington dc')"
      ],
      "execution_count": 277,
      "outputs": []
    },
    {
      "cell_type": "code",
      "metadata": {
        "id": "K8xABjB3jdzQ"
      },
      "source": [
        "df=pd.merge(df,df_fips,how='left',left_on=['state','county'],right_on=['state','county'])\n",
        "df['fips']=df['fips'].fillna('02000')"
      ],
      "execution_count": 278,
      "outputs": []
    },
    {
      "cell_type": "code",
      "metadata": {
        "id": "0dLhr-2qBYdf"
      },
      "source": [
        "df=df.drop_duplicates(keep='first',ignore_index=True)"
      ],
      "execution_count": 279,
      "outputs": []
    },
    {
      "cell_type": "code",
      "metadata": {
        "id": "ABCu1BD6B0Ea"
      },
      "source": [
        "df_temp=df.groupby(['state']).sum()[['gopvotes','demvotes']]\n",
        "df_temp.reset_index(inplace=True)\n",
        "df_temp['statewinner']=list(map(lambda x:'Trump' if df_temp.loc[x]['gopvotes']>df_temp.loc[x]['demvotes'] else 'Biden',[i for i in range(len(df_temp))]))\n",
        "df_temp=df_temp.rename(columns={'gopvotes':'stategopvotes','demvotes':'statedemvotes'})\n",
        "df=pd.merge(df,df_temp,how='left',left_on='state',right_on='state')"
      ],
      "execution_count": 280,
      "outputs": []
    },
    {
      "cell_type": "code",
      "metadata": {
        "id": "G9DaahXBHHk1"
      },
      "source": [
        "df['countywinner']=list(map(lambda x:'Trump' if df.loc[x]['gopvotes']>df.loc[x]['demvotes'] else 'Biden',[i for i in range(len(df))]))\n",
        "df=df.rename(columns={'gopvotes':'countygopvotes','demvotes':'countydemvotes','gopvotesper':'countygopvotesper','demvotesper':'countydemvotesper'})"
      ],
      "execution_count": 281,
      "outputs": []
    },
    {
      "cell_type": "code",
      "metadata": {
        "id": "J_h6qEXyILGN"
      },
      "source": [
        "df_temp=pd.read_excel('/content/drive/My Drive/Elections 2020/ElectionStateResults.xlsx')\n",
        "df_temp['stategopvotesper']=list(map(lambda x:x[:len(x)-1],df_temp['stategopvotesper'].tolist()))\n",
        "df_temp['statedemvotesper']=list(map(lambda x:x[:len(x)-1],df_temp['statedemvotesper'].tolist()))\n",
        "df=pd.merge(df,df_temp,how='left',left_on='state',right_on='state')"
      ],
      "execution_count": null,
      "outputs": []
    },
    {
      "cell_type": "code",
      "metadata": {
        "id": "OwHtySMnZEZp"
      },
      "source": [
        "templ=list(df.columns)\n",
        "df=df[sorted(templ)]"
      ],
      "execution_count": null,
      "outputs": []
    },
    {
      "cell_type": "code",
      "metadata": {
        "id": "P4ep0xwLZesV"
      },
      "source": [
        "df['state']=list(map(lambda x:x.title(),df['state'].tolist()))\n",
        "df['county']=list(map(lambda x:x.title(),df['county'].tolist()))"
      ],
      "execution_count": null,
      "outputs": []
    },
    {
      "cell_type": "code",
      "metadata": {
        "id": "yWXVxBZ6MNOt",
        "outputId": "892961f1-2bd0-4ef0-b00d-2acb264a1f77",
        "colab": {
          "base_uri": "https://localhost:8080/"
        }
      },
      "source": [
        "!pip install xlsxwriter\n",
        "writer=pd.ExcelWriter('drive/My Drive/Elections 2020/Elections2020Data.xlsx',engine='xlsxwriter')\n",
        "df.to_excel(writer,sheet_name='Sheet1',index=False)\n",
        "writer.save()"
      ],
      "execution_count": 289,
      "outputs": [
        {
          "output_type": "stream",
          "text": [
            "Requirement already satisfied: xlsxwriter in /usr/local/lib/python3.6/dist-packages (1.3.7)\n"
          ],
          "name": "stdout"
        }
      ]
    },
    {
      "cell_type": "code",
      "metadata": {
        "id": "nZtXR9REYfzg"
      },
      "source": [
        ""
      ],
      "execution_count": null,
      "outputs": []
    }
  ]
}