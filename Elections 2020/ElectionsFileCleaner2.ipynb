{
  "nbformat": 4,
  "nbformat_minor": 0,
  "metadata": {
    "colab": {
      "name": "ElectionsFileCleaner2.ipynb",
      "provenance": []
    },
    "kernelspec": {
      "name": "python3",
      "display_name": "Python 3"
    }
  },
  "cells": [
    {
      "cell_type": "code",
      "metadata": {
        "id": "GrN59cFIYDOc"
      },
      "source": [
        "from bs4 import BeautifulSoup\n",
        "import requests\n",
        "import pandas as pd\n",
        "import numpy as np"
      ],
      "execution_count": 66,
      "outputs": []
    },
    {
      "cell_type": "code",
      "metadata": {
        "id": "woMhVaIlZIP3"
      },
      "source": [
        "url='https://www.governing.com/gov-data/census/state-minority-population-data-estimates.html'\n",
        "page=requests.get(url)\n",
        "soup=BeautifulSoup(page.content,'html.parser')"
      ],
      "execution_count": 45,
      "outputs": []
    },
    {
      "cell_type": "code",
      "metadata": {
        "id": "wC5UXCLeac_c"
      },
      "source": [
        "results=soup.find_all('table',class_='dataTable')"
      ],
      "execution_count": 46,
      "outputs": []
    },
    {
      "cell_type": "code",
      "metadata": {
        "id": "6litZDfrafz0"
      },
      "source": [
        "for i in [results[1]]:\n",
        "    results=i.find_all('td')"
      ],
      "execution_count": 47,
      "outputs": []
    },
    {
      "cell_type": "code",
      "metadata": {
        "id": "07S0fJ0mbCVU"
      },
      "source": [
        "l=[]\n",
        "for i in range(6):\n",
        "    temp_l=[]\n",
        "    for j in results[i::6]:\n",
        "        temp_l.append(j.text.strip())\n",
        "    l.append(temp_l)"
      ],
      "execution_count": 48,
      "outputs": []
    },
    {
      "cell_type": "code",
      "metadata": {
        "id": "MOubwe5mdQ8r"
      },
      "source": [
        "l[0]=list(map(lambda x:x.lower().title(),l[0]))\n",
        "for i in range(1,6):\n",
        "    l[i]=list(map(lambda x:x[:len(x)-1],l[i]))"
      ],
      "execution_count": 53,
      "outputs": []
    },
    {
      "cell_type": "code",
      "metadata": {
        "id": "-rdLy18ieJvl"
      },
      "source": [
        "df2=pd.DataFrame({'state':l[0],'hispanic':l[1],'white':l[2],'black':l[3],'asian':l[4],'native':l[5]})"
      ],
      "execution_count": null,
      "outputs": []
    },
    {
      "cell_type": "code",
      "metadata": {
        "id": "AVGCOjW3eqy8"
      },
      "source": [
        "df=pd.read_excel('drive/My Drive/Elections 2020/Elections2020.xlsx')"
      ],
      "execution_count": 59,
      "outputs": []
    },
    {
      "cell_type": "code",
      "metadata": {
        "id": "HU6749PpfWO0"
      },
      "source": [
        "df2['state']=df2['state'].replace(['District Of Columbia'],'Washington Dc')"
      ],
      "execution_count": 61,
      "outputs": []
    },
    {
      "cell_type": "code",
      "metadata": {
        "id": "bNwtVYOlfXcQ"
      },
      "source": [
        "df=pd.merge(df,df2,how='left',left_on='state',right_on='state')"
      ],
      "execution_count": null,
      "outputs": []
    },
    {
      "cell_type": "code",
      "metadata": {
        "id": "OlWSxGRPhj6t"
      },
      "source": [
        "df['hispanicpop']=list(map(lambda x:int(round(x)),np.multiply(np.asarray(df['statepop'].tolist(),dtype=int),np.asarray([(float(i)/100) for i in np.asarray(df['hispanic'].tolist())]))))\n",
        "df['whitepop']=list(map(lambda x:int(round(x)),np.multiply(np.asarray(df['statepop'].tolist(),dtype=int),np.asarray([(float(i)/100) for i in np.asarray(df['white'].tolist())]))))\n",
        "df['blackpop']=list(map(lambda x:int(round(x)),np.multiply(np.asarray(df['statepop'].tolist(),dtype=int),np.asarray([(float(i)/100) for i in np.asarray(df['black'].tolist())]))))\n",
        "df['asianpop']=list(map(lambda x:int(round(x)),np.multiply(np.asarray(df['statepop'].tolist(),dtype=int),np.asarray([(float(i)/100) for i in np.asarray(df['asian'].tolist())]))))\n",
        "df['nativepop']=list(map(lambda x:int(round(x)),np.multiply(np.asarray(df['statepop'].tolist(),dtype=int),np.asarray([(float(i)/100) for i in np.asarray(df['native'].tolist())]))))"
      ],
      "execution_count": 78,
      "outputs": []
    },
    {
      "cell_type": "code",
      "metadata": {
        "colab": {
          "base_uri": "https://localhost:8080/"
        },
        "id": "Uu2RUwAmgSaT",
        "outputId": "e39e87cb-e312-4991-aed2-c7729e7314e5"
      },
      "source": [
        "!pip install xlsxwriter\n",
        "writer=pd.ExcelWriter('drive/My Drive/Elections 2020/Elections2020.xlsx',engine='xlsxwriter')\n",
        "df.to_excel(writer,sheet_name='Sheet1',index=False)\n",
        "writer.save()"
      ],
      "execution_count": 80,
      "outputs": [
        {
          "output_type": "stream",
          "text": [
            "Requirement already satisfied: xlsxwriter in /usr/local/lib/python3.6/dist-packages (1.3.7)\n"
          ],
          "name": "stdout"
        }
      ]
    },
    {
      "cell_type": "code",
      "metadata": {
        "id": "uLHW262RgxHh"
      },
      "source": [
        ""
      ],
      "execution_count": null,
      "outputs": []
    }
  ]
}