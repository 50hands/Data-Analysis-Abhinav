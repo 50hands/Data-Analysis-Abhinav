{
  "nbformat": 4,
  "nbformat_minor": 0,
  "metadata": {
    "colab": {
      "name": "EmotionTraining.ipynb",
      "provenance": [],
      "collapsed_sections": []
    },
    "kernelspec": {
      "display_name": "Python 3",
      "name": "python3"
    },
    "accelerator": "GPU"
  },
  "cells": [
    {
      "cell_type": "code",
      "metadata": {
        "id": "ErkxOt-BR-Ly",
        "outputId": "5d3ecbf4-1ad9-4275-93d3-e2472ff29f40",
        "colab": {
          "base_uri": "https://localhost:8080/",
          "height": 34
        }
      },
      "source": [
        "from google.colab import drive\n",
        "drive.mount('/content/drive')"
      ],
      "execution_count": null,
      "outputs": [
        {
          "output_type": "stream",
          "text": [
            "Mounted at /content/drive\n"
          ],
          "name": "stdout"
        }
      ]
    },
    {
      "cell_type": "code",
      "metadata": {
        "id": "3ZPWWCJeTToT"
      },
      "source": [
        "import numpy as np\n",
        "import tensorflow as tf\n",
        "import pandas as pd\n",
        "import matplotlib.pyplot as plt\n",
        "import warnings\n",
        "warnings.filterwarnings('ignore')"
      ],
      "execution_count": null,
      "outputs": []
    },
    {
      "cell_type": "code",
      "metadata": {
        "id": "Qa1QcLsMSQC2"
      },
      "source": [
        "df=pd.read_csv('drive/My Drive/fer2013.csv')"
      ],
      "execution_count": null,
      "outputs": []
    },
    {
      "cell_type": "code",
      "metadata": {
        "id": "ScWFQEr4YrqV"
      },
      "source": [
        "numofinstances=len(df)\n",
        "x_train=[]\n",
        "y_train=[]\n",
        "x_test=[]\n",
        "y_test=[]\n",
        "num_classes=max(df['emotion'].tolist())\n",
        "for i in range(numofinstances):\n",
        "    try:\n",
        "        emotion=df.loc[i]['emotion']\n",
        "        pixels=df.loc[i]['pixels']\n",
        "        usage=df.loc[i]['Usage']\n",
        "        pixels=pixels.split(' ')\n",
        "        pixels=np.array(pixels,'float32')\n",
        "        emotion=tf.keras.utils.to_categorical(emotion,num_classes=num_classes+1)\n",
        "        if usage.lower()=='training':\n",
        "            x_train.append(pixels)\n",
        "            y_train.append(emotion)\n",
        "        elif usage.lower()=='publictest' or usage.lower()=='privatetest':\n",
        "            x_test.append(pixels)\n",
        "            y_test.append(emotion)\n",
        "    except Exception as e:\n",
        "        print(e)\n",
        "        continue"
      ],
      "execution_count": null,
      "outputs": []
    },
    {
      "cell_type": "code",
      "metadata": {
        "id": "pCKVxpbLh2QD"
      },
      "source": [
        "x_train=np.array(x_train,'float32')\n",
        "y_train=np.array(y_train,'float32')\n",
        "x_test=np.array(x_test,'float32')\n",
        "y_test=np.array(y_test,'float32')\n",
        "x_train/=255\n",
        "x_test/=255\n",
        "x_train=x_train.reshape(x_train.shape[0],48,48,1)\n",
        "x_train=x_train.astype('float32')\n",
        "x_test=x_test.reshape(x_test.shape[0],48,48,1)\n",
        "x_test=x_test.astype('float32')"
      ],
      "execution_count": null,
      "outputs": []
    },
    {
      "cell_type": "code",
      "metadata": {
        "id": "aH3--ojgTPee"
      },
      "source": [
        "model=tf.keras.Sequential()\n",
        "model.add(tf.keras.layers.Conv2D(64,(5,5),activation='relu',input_shape=(48,48,1))) #1st convolution layer\n",
        "model.add(tf.keras.layers.MaxPooling2D(pool_size=(5,5),strides=(2, 2)))\n",
        "model.add(tf.keras.layers.Conv2D(64,(3,3),activation='relu')) #2nd convolution layer\n",
        "model.add(tf.keras.layers.Conv2D(64,(3,3),activation='relu'))\n",
        "model.add(tf.keras.layers.AveragePooling2D(pool_size=(3,3), strides=(2, 2)))\n",
        "model.add(tf.keras.layers.Conv2D(128,(3,3),activation='relu')) #3rd convolution layer\n",
        "model.add(tf.keras.layers.Conv2D(128,(3,3),activation='relu'))\n",
        "model.add(tf.keras.layers.AveragePooling2D(pool_size=(3,3),strides=(2,2)))\n",
        "model.add(tf.keras.layers.Flatten())\n",
        "model.add(tf.keras.layers.Dense(1024,activation='relu')) #fully connected neural networks\n",
        "model.add(tf.keras.layers.Dropout(0.2))\n",
        "model.add(tf.keras.layers.Dense(1024,activation='relu'))\n",
        "model.add(tf.keras.layers.Dropout(0.2))\n",
        "model.add(tf.keras.layers.Dense(units=num_classes+1,activation='softmax'))"
      ],
      "execution_count": null,
      "outputs": []
    },
    {
      "cell_type": "code",
      "metadata": {
        "id": "PmhaAh-x35CS"
      },
      "source": [
        "batch_size=256\n",
        "gen=tf.keras.preprocessing.image.ImageDataGenerator()\n",
        "train_generator=gen.flow(x_train,y_train,batch_size=batch_size)\n",
        "model.compile(loss='categorical_crossentropy',optimizer=tf.keras.optimizers.Adam(),metrics=['accuracy'])"
      ],
      "execution_count": null,
      "outputs": []
    },
    {
      "cell_type": "code",
      "metadata": {
        "id": "hP1Olje5fHrr"
      },
      "source": [
        "for i in range(10):\n",
        "    epochs=5\n",
        "    model.fit(train_generator,epochs=epochs)\n",
        "    train_score=model.evaluate(x_train,y_train,verbose=0)\n",
        "    print('Train loss:',train_score[0])\n",
        "    print('Train accuracy:',100*train_score[1])\n",
        "    test_score=model.evaluate(x_test,y_test,verbose=0)\n",
        "    print('Test loss:',test_score[0])\n",
        "    print('Test accuracy:',100*test_score[1])"
      ],
      "execution_count": null,
      "outputs": []
    },
    {
      "cell_type": "code",
      "metadata": {
        "id": "t0rwv4dCAaJR"
      },
      "source": [
        "def emotion_analysis(emotions):\n",
        "    objects=('angry','disgust','fear','happy','sad','surprise','neutral')\n",
        "    y_pos=np.arange(len(objects))\n",
        "    emotion=objects[(emotions.tolist()).index(max(emotions))]\n",
        "    plt.bar(y_pos,emotions,align='center',alpha=0.5)\n",
        "    plt.xticks(y_pos,objects)\n",
        "    plt.ylabel('percentage')\n",
        "    plt.title('Emotion')\n",
        "    plt.show()\n",
        "    return emotion"
      ],
      "execution_count": null,
      "outputs": []
    },
    {
      "cell_type": "code",
      "metadata": {
        "id": "rg6k6zf6vZS_",
        "outputId": "b70bd997-0645-49bd-d742-72a60c6ab2b5",
        "colab": {
          "base_uri": "https://localhost:8080/",
          "height": 548
        }
      },
      "source": [
        "img=tf.keras.preprocessing.image.load_img('/content/drive/My Drive/pablo.png',color_mode='grayscale',target_size=(48,48))\n",
        "x=tf.keras.preprocessing.image.img_to_array(img)\n",
        "x=np.expand_dims(x,axis=0)\n",
        "x/=255\n",
        "custom=model.predict(x)\n",
        "emotion=emotion_analysis(custom[0])\n",
        "plt.gray()\n",
        "plt.imshow(img)\n",
        "plt.show()\n",
        "print('The person is',emotion,'!!!')"
      ],
      "execution_count": null,
      "outputs": [
        {
          "output_type": "display_data",
          "data": {
            "image/png": "[encoded data removed]",
            "text/plain": [
              "<Figure size 432x288 with 1 Axes>"
            ]
          },
          "metadata": {
            "tags": [],
            "needs_background": "light"
          }
        },
        {
          "output_type": "display_data",
          "data": {
            "image/png": "[encoded data removed]",
            "text/plain": [
              "<Figure size 432x288 with 1 Axes>"
            ]
          },
          "metadata": {
            "tags": [],
            "needs_background": "light"
          }
        },
        {
          "output_type": "stream",
          "text": [
            "The person is happy !!!\n"
          ],
          "name": "stdout"
        }
      ]
    },
    {
      "cell_type": "code",
      "metadata": {
        "id": "DPA4ubjKwJCP",
        "outputId": "30105813-9299-43ee-ab31-9d354d8c74f1",
        "colab": {
          "base_uri": "https://localhost:8080/",
          "height": 34
        }
      },
      "source": [
        "tf.keras.models.save_model(model,'drive/My Drive/model',overwrite=True,include_optimizer=True,save_format=None,signatures=None,options=None)"
      ],
      "execution_count": null,
      "outputs": [
        {
          "output_type": "stream",
          "text": [
            "INFO:tensorflow:Assets written to: drive/My Drive/model/assets\n"
          ],
          "name": "stdout"
        }
      ]
    }
  ]
}