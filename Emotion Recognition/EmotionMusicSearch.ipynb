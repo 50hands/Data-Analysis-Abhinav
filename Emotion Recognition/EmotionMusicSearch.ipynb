{
  "nbformat": 4,
  "nbformat_minor": 0,
  "metadata": {
    "colab": {
      "name": "EmotionMusicSearch.ipynb",
      "provenance": [],
      "collapsed_sections": []
    },
    "kernelspec": {
      "name": "python3",
      "display_name": "Python 3"
    },
    "accelerator": "TPU"
  },
  "cells": [
    {
      "cell_type": "code",
      "metadata": {
        "id": "wP3rcPAC2lyM",
        "outputId": "520083d9-07f9-4fc8-e73b-365bbd9cdcaf",
        "colab": {
          "base_uri": "https://localhost:8080/",
          "height": 178
        }
      },
      "source": [
        "!pip install spotipy\n",
        "!pip install XlsxWriter\n",
        "import os\n",
        "import spotipy\n",
        "import pandas as pd\n",
        "from spotipy.oauth2 import SpotifyClientCredentials\n",
        "os.environ['SPOTIPY_CLIENT_ID']='c98e011c0f6a4d5b8ed0cf4caef922c4'\n",
        "os.environ['SPOTIPY_CLIENT_SECRET']='058ecc9c70a04bb4acdf19673e96af29'\n",
        "spotify=spotipy.Spotify(client_credentials_manager=SpotifyClientCredentials())"
      ],
      "execution_count": 107,
      "outputs": [
        {
          "output_type": "stream",
          "text": [
            "Requirement already satisfied: spotipy in /usr/local/lib/python3.6/dist-packages (2.16.0)\n",
            "Requirement already satisfied: six>=1.10.0 in /usr/local/lib/python3.6/dist-packages (from spotipy) (1.15.0)\n",
            "Requirement already satisfied: requests>=2.20.0 in /usr/local/lib/python3.6/dist-packages (from spotipy) (2.23.0)\n",
            "Requirement already satisfied: idna<3,>=2.5 in /usr/local/lib/python3.6/dist-packages (from requests>=2.20.0->spotipy) (2.10)\n",
            "Requirement already satisfied: certifi>=2017.4.17 in /usr/local/lib/python3.6/dist-packages (from requests>=2.20.0->spotipy) (2020.6.20)\n",
            "Requirement already satisfied: chardet<4,>=3.0.2 in /usr/local/lib/python3.6/dist-packages (from requests>=2.20.0->spotipy) (3.0.4)\n",
            "Requirement already satisfied: urllib3!=1.25.0,!=1.25.1,<1.26,>=1.21.1 in /usr/local/lib/python3.6/dist-packages (from requests>=2.20.0->spotipy) (1.24.3)\n",
            "Requirement already satisfied: XlsxWriter in /usr/local/lib/python3.6/dist-packages (1.3.7)\n"
          ],
          "name": "stdout"
        }
      ]
    },
    {
      "cell_type": "code",
      "metadata": {
        "id": "woad2EcZ3HI6"
      },
      "source": [
        "df=pd.read_csv('drive/My Drive/MoodPlaylists.csv')"
      ],
      "execution_count": 108,
      "outputs": []
    },
    {
      "cell_type": "code",
      "metadata": {
        "id": "Jb88dhBBHV3f"
      },
      "source": [
        "mainsongsdf=pd.DataFrame(columns={'emotion','track','album','artists','popularity'})"
      ],
      "execution_count": 109,
      "outputs": []
    },
    {
      "cell_type": "code",
      "metadata": {
        "id": "QcaiDhfq3aLM"
      },
      "source": [
        "for i in range(len(df)):\n",
        "    emo=df.loc[i]['emotion']\n",
        "    id=df.loc[i]['playlistid']\n",
        "    results=spotify.playlist(id,additional_types=('track',))\n",
        "    playdict={'emotion':emo,'track':[],'album':[],'artists':[],'popularity':[]}\n",
        "    for i in results['tracks']['items']:\n",
        "        playdict['track'].append(i['track']['name'])\n",
        "        playdict['album'].append(i['track']['album']['name'])\n",
        "        s=''\n",
        "        for j in i['track']['artists']:\n",
        "            s=s+j['name']+', '\n",
        "        playdict['artists'].append(s[:len(s)-2])\n",
        "        playdict['popularity'].append(i['track']['popularity'])\n",
        "    playdf=pd.DataFrame(playdict)\n",
        "    playdf=playdf.sort_values(by=['popularity'],ascending=False).reset_index(drop=True)\n",
        "    mainsongsdf=mainsongsdf.append(playdf)\n",
        "mainsongsdf=mainsongsdf.reset_index(drop=True)"
      ],
      "execution_count": 110,
      "outputs": []
    },
    {
      "cell_type": "code",
      "metadata": {
        "id": "r5alkNZc-kAp",
        "outputId": "2ecd5c8e-3f83-4610-8628-53f1aeaf40d5",
        "colab": {
          "base_uri": "https://localhost:8080/",
          "height": 265
        }
      },
      "source": [
        "print(mainsongsdf)"
      ],
      "execution_count": 111,
      "outputs": [
        {
          "output_type": "stream",
          "text": [
            "     popularity  ...                                              album\n",
            "0            79  ...                                            Fanmail\n",
            "1            72  ...                               B'Day Deluxe Edition\n",
            "2            69  ...                                      New Beginning\n",
            "3            64  ...                                        Bittersweet\n",
            "4            63  ...                             Pearl (Legacy Edition)\n",
            "...         ...  ...                                                ...\n",
            "1227          0  ...                                           Geronimo\n",
            "1228          0  ...                                         All Of You\n",
            "1229          0  ...                              The Midsummer Station\n",
            "1230          0  ...                                    Oh, What A Life\n",
            "1231          0  ...  The Beginning & The Best Of The E.N.D. (Intern...\n",
            "\n",
            "[1232 rows x 5 columns]\n"
          ],
          "name": "stdout"
        }
      ]
    },
    {
      "cell_type": "code",
      "metadata": {
        "id": "Ot3Y7gDtKmzn"
      },
      "source": [
        "writer=pd.ExcelWriter('drive/My Drive/EmotionSongs.xlsx',engine='xlsxwriter')\n",
        "mainsongsdf.to_excel(writer,sheet_name='Sheet1',index=False)\n",
        "writer.save()"
      ],
      "execution_count": 113,
      "outputs": []
    },
    {
      "cell_type": "code",
      "metadata": {
        "id": "tEnQQTDYK98i"
      },
      "source": [
        ""
      ],
      "execution_count": null,
      "outputs": []
    }
  ]
}