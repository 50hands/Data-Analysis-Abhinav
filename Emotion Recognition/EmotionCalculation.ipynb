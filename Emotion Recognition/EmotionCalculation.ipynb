{
  "nbformat": 4,
  "nbformat_minor": 0,
  "metadata": {
    "colab": {
      "name": "EmotionCalculation.ipynb",
      "provenance": [],
      "collapsed_sections": []
    },
    "kernelspec": {
      "name": "python3",
      "display_name": "Python 3"
    },
    "accelerator": "GPU"
  },
  "cells": [
    {
      "cell_type": "code",
      "metadata": {
        "id": "CarYZvLBc6dw"
      },
      "source": [
        "import os\n",
        "os.environ['TF_CPP_MIN_LOG_LEVEL']='3'\n",
        "import pandas as pd\n",
        "import numpy as np\n",
        "import tensorflow as tf\n",
        "from keras.preprocessing.text import Tokenizer\n",
        "from keras.preprocessing.sequence import pad_sequences\n",
        "import warnings\n",
        "warnings.filterwarnings('ignore')\n",
        "tf.compat.v1.logging.set_verbosity(tf.compat.v1.logging.ERROR)"
      ],
      "execution_count": null,
      "outputs": []
    },
    {
      "cell_type": "code",
      "metadata": {
        "id": "-MK4x_p9oiIS"
      },
      "source": [
        "def TextModel(message):\n",
        "    num_classes=5\n",
        "    embed_num_dims=300\n",
        "    max_seq_len=500\n",
        "    class_names=['happy','fear','angry','sad','neutral']\n",
        "    tokenizer=Tokenizer()\n",
        "    tokenizer.fit_on_texts(pd.read_excel('drive/My Drive/Texts.xlsx',sheet_name='Sheet1')['Text'].tolist())\n",
        "    embedd_matrix=np.load('drive/My Drive/Embeddmatrix.npy')\n",
        "    textmodel=tf.keras.models.load_model('drive/My Drive/textmodel',custom_objects=None,compile=True,options=None)\n",
        "    seq=tokenizer.texts_to_sequences(message)\n",
        "    padded=pad_sequences(seq,maxlen=max_seq_len)\n",
        "    pred=textmodel.predict(padded)\n",
        "    pred=pred.tolist()\n",
        "    return pred"
      ],
      "execution_count": null,
      "outputs": []
    },
    {
      "cell_type": "code",
      "metadata": {
        "id": "NQ-KDcuLddLJ",
        "outputId": "48d465bd-b68e-4afe-9909-719eac43d6f1",
        "colab": {
          "base_uri": "https://localhost:8080/",
          "height": 34
        }
      },
      "source": [
        "message=['When I got up in the morning, I felt Moody & Irritable']\n",
        "mat=TextModel(message)\n",
        "for i in mat:\n",
        "    print(i)"
      ],
      "execution_count": null,
      "outputs": [
        {
          "output_type": "stream",
          "text": [
            "[0.008691392838954926, 0.02360685169696808, 0.2980426549911499, 0.6628997325897217, 0.006759406998753548]\n"
          ],
          "name": "stdout"
        }
      ]
    }
  ]
}