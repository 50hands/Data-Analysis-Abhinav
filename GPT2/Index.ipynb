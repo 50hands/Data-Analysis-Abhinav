{
  "nbformat": 4,
  "nbformat_minor": 0,
  "metadata": {
    "colab": {
      "name": "SadBoiQuotes.ipynb",
      "provenance": [],
      "collapsed_sections": []
    },
    "kernelspec": {
      "name": "python3",
      "display_name": "Python 3"
    },
    "accelerator": "GPU"
  },
  "cells": [
    {
      "cell_type": "code",
      "metadata": {
        "id": "pC_6KFMf6dsU",
        "colab_type": "code",
        "colab": {}
      },
      "source": [
        "from IPython.display import HTML, display\n",
        "def set_css():\n",
        "  display(HTML('''\n",
        "  <style>\n",
        "    pre {\n",
        "        white-space: pre-wrap;\n",
        "    }\n",
        "  </style>\n",
        "  '''))\n",
        "get_ipython().events.register('pre_run_cell', set_css)"
      ],
      "execution_count": null,
      "outputs": []
    },
    {
      "cell_type": "code",
      "metadata": {
        "id": "p13988-k1ImK",
        "colab_type": "code",
        "colab": {}
      },
      "source": [
        "!cp -r 'drive/My Drive/checkpoint' ../content/\n",
        "!cp -r 'drive/My Drive/models' ../content/\n",
        "!git clone https://github.com/nshepperd/gpt-2.git\n",
        "!rm -r gpt-2/src\n",
        "!cp -r 'drive/My Drive/src' gpt-2/\n",
        "!pip install -r gpt-2/requirements.txt\n",
        "!pip uninstall tensorflow\n",
        "!pip install tensorflow==1.15.0"
      ],
      "execution_count": null,
      "outputs": []
    },
    {
      "cell_type": "code",
      "metadata": {
        "id": "l7l2VNuB47nh",
        "colab_type": "code",
        "colab": {}
      },
      "source": [
        "!mkdir gpt-2/Quotes\n",
        "import json\n",
        "import pandas as pd\n",
        "df=pd.read_json('gpt-2/src/quotes.json')\n",
        "l=df['Quote'].tolist()\n",
        "l=list(set(l))\n",
        "c=0\n",
        "for i in l:\n",
        "    try:\n",
        "        print(c)\n",
        "        f=open('gpt-2/Quotes/'+str(c)+'.txt','a')\n",
        "        f.write(i)\n",
        "        f.close()\n",
        "        c+=1\n",
        "    except:\n",
        "        continue"
      ],
      "execution_count": null,
      "outputs": []
    },
    {
      "cell_type": "code",
      "metadata": {
        "id": "t6BNqMMR1qYM",
        "colab_type": "code",
        "colab": {}
      },
      "source": [
        "!python gpt-2/src/encode.py gpt-2/Quotes gpt-2/src/quotes.npz"
      ],
      "execution_count": null,
      "outputs": []
    },
    {
      "cell_type": "code",
      "metadata": {
        "id": "yxlyiIbSXcg-",
        "colab_type": "code",
        "colab": {}
      },
      "source": [
        "!python gpt-2/src/train.py --dataset gpt-2/src/quotes.npz --batch_size 3 --learning_rate 0.001"
      ],
      "execution_count": null,
      "outputs": []
    },
    {
      "cell_type": "code",
      "metadata": {
        "id": "jA_Ll78fxB1W",
        "colab_type": "code",
        "colab": {}
      },
      "source": [
        "!rm -r models/quotes\n",
        "!mkdir models/quotes\n",
        "!cp -r models/117M/vocab.bpe models/quotes/\n",
        "!cp -r models/117M/hparams.json models/quotes/\n",
        "!cp -r models/117M/encoder.json models/quotes/ \n",
        "!cp -r checkpoint/run1/checkpoint models/quotes/\n",
        "!cp -r checkpoint/run1/model-84614.data-00000-of-00001 models/quotes/\n",
        "!cp -r checkpoint/run1/model-84614.index models/quotes/\n",
        "!cp -r checkpoint/run1/model-84614.meta models/quotes/\n",
        "!rm -r 'drive/My Drive/checkpoint'\n",
        "!rm -r 'drive/My Drive/src'\n",
        "!rm -r 'drive/My Drive/models'\n",
        "!cp -r gpt-2/src 'drive/My Drive/'\n",
        "!cp -r checkpoint 'drive/My Drive/'\n",
        "!cp -r models 'drive/My Drive/'"
      ],
      "execution_count": null,
      "outputs": []
    },
    {
      "cell_type": "code",
      "metadata": {
        "id": "9ir6vdKZz_GM",
        "colab_type": "code",
        "colab": {}
      },
      "source": [
        "!mkdir sadboiquotes\n",
        "!python gpt-2/src/generate_unconditional_samples.py --model_name quotes"
      ],
      "execution_count": null,
      "outputs": []
    },
    {
      "cell_type": "code",
      "metadata": {
        "id": "c5ThGsTh4199",
        "colab_type": "code",
        "colab": {}
      },
      "source": [
        "!pip install XlsxWriter\n",
        "import pandas as pd\n",
        "from google.colab import files\n",
        "l=[]\n",
        "flag=0\n",
        "for i in range(1027):\n",
        "    try:\n",
        "        f=open('sadboiquotes/'+str(i+1)+'.txt','r')\n",
        "        s=f.read().strip().split('<|endoftext|>')\n",
        "        del s[0]\n",
        "        del s[len(s)-1]\n",
        "        flag+=len(s)\n",
        "        print(flag)\n",
        "        for j in s:\n",
        "            j=j.strip()\n",
        "            if j[len(j)-1]=='.' or j[len(j)-1]=='!' or j[len(j)-1]=='?':\n",
        "                l.append(j)\n",
        "            else:\n",
        "                j=j+'.'\n",
        "                l.append(j)\n",
        "    except:\n",
        "        continue\n",
        "df=pd.DataFrame({'Quotes':l})\n",
        "writer=pd.ExcelWriter('SadBoiQuotes.xlsx',engine='xlsxwriter')\n",
        "df.to_excel(writer,sheet_name='Sheet1',index=False)\n",
        "writer.save()\n",
        "files.download('SadBoiQuotes.xlsx')"
      ],
      "execution_count": null,
      "outputs": []
    },
    {
      "cell_type": "code",
      "metadata": {
        "id": "JlMZVlQg8b45",
        "colab_type": "code",
        "colab": {}
      },
      "source": [
        "function ClickConnect(){\n",
        "    console.log(\"Working\"); \n",
        "    document.querySelector(\"colab-connect-button\").click() \n",
        "}\n",
        "setInterval(ClickConnect,75000)"
      ],
      "execution_count": null,
      "outputs": []
    }
  ]
}